{
 "cells": [
  {
   "cell_type": "code",
   "execution_count": 1,
   "id": "319864db",
   "metadata": {},
   "outputs": [
    {
     "name": "stdout",
     "output_type": "stream",
     "text": [
      "Requirement already satisfied: selenium in c:\\users\\admin\\anaconda3\\lib\\site-packages (4.12.0)\n",
      "Requirement already satisfied: urllib3[socks]<3,>=1.26 in c:\\users\\admin\\anaconda3\\lib\\site-packages (from selenium) (1.26.16)\n",
      "Requirement already satisfied: trio~=0.17 in c:\\users\\admin\\anaconda3\\lib\\site-packages (from selenium) (0.22.2)\n",
      "Requirement already satisfied: trio-websocket~=0.9 in c:\\users\\admin\\anaconda3\\lib\\site-packages (from selenium) (0.10.4)\n",
      "Requirement already satisfied: certifi>=2021.10.8 in c:\\users\\admin\\anaconda3\\lib\\site-packages (from selenium) (2023.7.22)\n",
      "Requirement already satisfied: attrs>=20.1.0 in c:\\users\\admin\\anaconda3\\lib\\site-packages (from trio~=0.17->selenium) (22.1.0)\n",
      "Requirement already satisfied: sortedcontainers in c:\\users\\admin\\anaconda3\\lib\\site-packages (from trio~=0.17->selenium) (2.4.0)\n",
      "Requirement already satisfied: idna in c:\\users\\admin\\anaconda3\\lib\\site-packages (from trio~=0.17->selenium) (3.4)\n",
      "Requirement already satisfied: outcome in c:\\users\\admin\\anaconda3\\lib\\site-packages (from trio~=0.17->selenium) (1.2.0)\n",
      "Requirement already satisfied: sniffio in c:\\users\\admin\\anaconda3\\lib\\site-packages (from trio~=0.17->selenium) (1.2.0)\n",
      "Requirement already satisfied: cffi>=1.14 in c:\\users\\admin\\anaconda3\\lib\\site-packages (from trio~=0.17->selenium) (1.15.1)\n",
      "Requirement already satisfied: exceptiongroup in c:\\users\\admin\\anaconda3\\lib\\site-packages (from trio-websocket~=0.9->selenium) (1.1.3)\n",
      "Requirement already satisfied: wsproto>=0.14 in c:\\users\\admin\\anaconda3\\lib\\site-packages (from trio-websocket~=0.9->selenium) (1.2.0)\n",
      "Requirement already satisfied: PySocks!=1.5.7,<2.0,>=1.5.6 in c:\\users\\admin\\anaconda3\\lib\\site-packages (from urllib3[socks]<3,>=1.26->selenium) (1.7.1)\n",
      "Requirement already satisfied: pycparser in c:\\users\\admin\\anaconda3\\lib\\site-packages (from cffi>=1.14->trio~=0.17->selenium) (2.21)\n",
      "Requirement already satisfied: h11<1,>=0.9.0 in c:\\users\\admin\\anaconda3\\lib\\site-packages (from wsproto>=0.14->trio-websocket~=0.9->selenium) (0.14.0)\n"
     ]
    }
   ],
   "source": [
    "!pip install selenium"
   ]
  },
  {
   "cell_type": "code",
   "execution_count": 1,
   "id": "e10e1ea3",
   "metadata": {},
   "outputs": [],
   "source": [
    "import selenium\n",
    "import pandas as pd\n",
    "from selenium import webdriver\n",
    "import warnings\n",
    "warnings.filterwarnings('ignore')\n",
    "from selenium.webdriver.common.by import By\n",
    "import time"
   ]
  },
  {
   "cell_type": "markdown",
   "id": "58c8bb18",
   "metadata": {},
   "source": [
    "# Q1"
   ]
  },
  {
   "cell_type": "code",
   "execution_count": 2,
   "id": "aae767f1",
   "metadata": {},
   "outputs": [],
   "source": [
    "driver=webdriver.Chrome()"
   ]
  },
  {
   "cell_type": "code",
   "execution_count": 3,
   "id": "02ee5b2e",
   "metadata": {},
   "outputs": [
    {
     "name": "stdout",
     "output_type": "stream",
     "text": [
      "enter your product:guitar\n"
     ]
    }
   ],
   "source": [
    "user_input=input('enter your product:')"
   ]
  },
  {
   "cell_type": "markdown",
   "id": "3f894ff1",
   "metadata": {},
   "source": [
    "# Q2"
   ]
  },
  {
   "cell_type": "code",
   "execution_count": null,
   "id": "be2ef036",
   "metadata": {},
   "outputs": [],
   "source": [
    "driver=webdriver.Chrome(r\"C:\\Users\\Admin\\Downloads\\chromedriver.exe\")"
   ]
  },
  {
   "cell_type": "code",
   "execution_count": 8,
   "id": "3f2ed145",
   "metadata": {},
   "outputs": [],
   "source": [
    "driver.get(\"https://www.amazon.in/s?k=guitar&crid=3G57IQJJ7SKDW&sprefix=%2Caps%2C250&ref=nb_sb_ss_recent_1_0_recent\")"
   ]
  },
  {
   "cell_type": "code",
   "execution_count": 10,
   "id": "c464a67b",
   "metadata": {},
   "outputs": [],
   "source": [
    "product_urls=[]\n",
    "start=0\n",
    "end=3\n",
    "for page in range(start,end):\n",
    "    url=driver.find_elements(By.XPATH,\"//a[@class='a-link-normal s-underline-text s-underline-link-text s-link-style a-text-normal'] \")   \n",
    "    for i in url:\n",
    "        product_urls.append(i.get_attribute(\"href\"))\n",
    "    next_button=driver.find_element(By.XPATH,\"//a[@class='s-pagination-item s-pagination-next s-pagination-button s-pagination-separator'] \")\n",
    "    next_button.click()\n",
    "    time.sleep(3)\n"
   ]
  },
  {
   "cell_type": "code",
   "execution_count": 11,
   "id": "98ffb1a3",
   "metadata": {},
   "outputs": [
    {
     "data": {
      "text/plain": [
       "180"
      ]
     },
     "execution_count": 11,
     "metadata": {},
     "output_type": "execute_result"
    }
   ],
   "source": [
    "len(product_urls)"
   ]
  },
  {
   "cell_type": "code",
   "execution_count": 57,
   "id": "68216d49",
   "metadata": {},
   "outputs": [],
   "source": [
    "df = pd.DataFrame(columns=[\"Brand Name\", \"Name of the Product\", \"Price\", \"Return/Exchange\", \"Expected Delivery\", \"Availability\", \"Product URL\"])\n"
   ]
  },
  {
   "cell_type": "code",
   "execution_count": 12,
   "id": "cfa924f2",
   "metadata": {},
   "outputs": [
    {
     "ename": "NameError",
     "evalue": "name 'product_links' is not defined",
     "output_type": "error",
     "traceback": [
      "\u001b[1;31m---------------------------------------------------------------------------\u001b[0m",
      "\u001b[1;31mNameError\u001b[0m                                 Traceback (most recent call last)",
      "Cell \u001b[1;32mIn[12], line 1\u001b[0m\n\u001b[1;32m----> 1\u001b[0m \u001b[38;5;28;01mfor\u001b[39;00m product_link \u001b[38;5;129;01min\u001b[39;00m product_links:\n\u001b[0;32m      2\u001b[0m     driver \u001b[38;5;241m=\u001b[39m webdriver\u001b[38;5;241m.\u001b[39mChrome()\n\u001b[0;32m      3\u001b[0m     driver\u001b[38;5;241m.\u001b[39mget(product_link)\n",
      "\u001b[1;31mNameError\u001b[0m: name 'product_links' is not defined"
     ]
    }
   ],
   "source": [
    "for product_link in product_links:\n",
    "    driver = webdriver.Chrome()\n",
    "    driver.get(product_link)\n",
    "\n",
    "    brand_name = driver.find_element(By.XPATH,\" //tr[@class='a-spacing-small po-brand']\").text\n",
    "    product_name = driver.find_element(By.XPATH,\"//span[@class='a-size-large product-title-word-break']\").text\n",
    "    price = driver.find_element(By.XPATH,\"//span[@class='a-price-whole']\").text\n",
    "    return_exchange = driver.find_element(By.XPATH,\"//span[@class='VfPpkd-Jh9lYy']\").text\n",
    "    expected_delivery = driver.find_element(By.XPATH\"//div[@class='f3oKgd']\").text\n",
    "    availability = driver.find_element(By.XPATH,\"//span[@class='Tm8yIf']\").text\n",
    "\n",
    "    if brand_name == \"\":\n",
    "        brand_name = \"-\"\n",
    "    if product_name == \"\":\n",
    "        product_name = \"-\"\n",
    "    if price == \"\":\n",
    "        price = \"-\"\n",
    "    if return_exchange == \"\":\n",
    "        return_exchange = \"-\"\n",
    "    if expected_delivery == \"\":\n",
    "        expected_delivery = \"-\"\n",
    "    if availability == \"\":\n",
    "        availability = \"-\"\n",
    "\n",
    "    df = df.append({\n",
    "        \"Brand Name\": brand_name,\n",
    "        \"Name of the Product\": product_name,\n",
    "        \"Price\": price,\n",
    "        \"Return/Exchange\": return_exchange,\n",
    "        \"Expected Delivery\": expected_delivery,\n",
    "        \"Availability\": availability,\n",
    "        \"Product URL\": product_link\n",
    "    }, ignore_index=True)\n",
    "\n",
    "    driver.quit()\n"
   ]
  },
  {
   "cell_type": "markdown",
   "id": "6f06aef9",
   "metadata": {},
   "source": [
    "# Q 3"
   ]
  },
  {
   "cell_type": "code",
   "execution_count": 3,
   "id": "5387da82",
   "metadata": {},
   "outputs": [
    {
     "name": "stdout",
     "output_type": "stream",
     "text": [
      "             Keyword                                          Image_URL\n",
      "0               cars  data:image/jpeg;base64,/9j/4AAQSkZJRgABAQAAAQA...\n",
      "1               cars  data:image/jpeg;base64,/9j/4AAQSkZJRgABAQAAAQA...\n",
      "2               cars  data:image/jpeg;base64,/9j/4AAQSkZJRgABAQAAAQA...\n",
      "3               cars  data:image/jpeg;base64,/9j/4AAQSkZJRgABAQAAAQA...\n",
      "4               cars  data:image/jpeg;base64,/9j/4AAQSkZJRgABAQAAAQA...\n",
      "5               cars  data:image/jpeg;base64,/9j/4AAQSkZJRgABAQAAAQA...\n",
      "6               cars  data:image/jpeg;base64,/9j/4AAQSkZJRgABAQAAAQA...\n",
      "7               cars  data:image/jpeg;base64,/9j/4AAQSkZJRgABAQAAAQA...\n",
      "8               cars  data:image/jpeg;base64,/9j/4AAQSkZJRgABAQAAAQA...\n",
      "9               cars  data:image/jpeg;base64,/9j/4AAQSkZJRgABAQAAAQA...\n",
      "10  Machine Learning  data:image/jpeg;base64,/9j/4AAQSkZJRgABAQAAAQA...\n",
      "11  Machine Learning  data:image/png;base64,iVBORw0KGgoAAAANSUhEUgAA...\n",
      "12  Machine Learning  data:image/png;base64,iVBORw0KGgoAAAANSUhEUgAA...\n",
      "13  Machine Learning  data:image/jpeg;base64,/9j/4AAQSkZJRgABAQAAAQA...\n",
      "14  Machine Learning  data:image/jpeg;base64,/9j/4AAQSkZJRgABAQAAAQA...\n",
      "15  Machine Learning  data:image/jpeg;base64,/9j/4AAQSkZJRgABAQAAAQA...\n",
      "16  Machine Learning  data:image/jpeg;base64,/9j/4AAQSkZJRgABAQAAAQA...\n",
      "17  Machine Learning  data:image/jpeg;base64,/9j/4AAQSkZJRgABAQAAAQA...\n",
      "18  Machine Learning  data:image/jpeg;base64,/9j/4AAQSkZJRgABAQAAAQA...\n",
      "19  Machine Learning  data:image/jpeg;base64,/9j/4AAQSkZJRgABAQAAAQA...\n",
      "20            Guitar  data:image/jpeg;base64,/9j/4AAQSkZJRgABAQAAAQA...\n",
      "21            Guitar  data:image/jpeg;base64,/9j/4AAQSkZJRgABAQAAAQA...\n",
      "22            Guitar  data:image/jpeg;base64,/9j/4AAQSkZJRgABAQAAAQA...\n",
      "23            Guitar  data:image/jpeg;base64,/9j/4AAQSkZJRgABAQAAAQA...\n",
      "24            Guitar  data:image/jpeg;base64,/9j/4AAQSkZJRgABAQAAAQA...\n",
      "25            Guitar  data:image/jpeg;base64,/9j/4AAQSkZJRgABAQAAAQA...\n",
      "26            Guitar  data:image/jpeg;base64,/9j/4AAQSkZJRgABAQAAAQA...\n",
      "27            Guitar  data:image/jpeg;base64,/9j/4AAQSkZJRgABAQAAAQA...\n",
      "28            Guitar  data:image/jpeg;base64,/9j/4AAQSkZJRgABAQAAAQA...\n",
      "29            Guitar  data:image/jpeg;base64,/9j/4AAQSkZJRgABAQAAAQA...\n",
      "30             Cakes  data:image/jpeg;base64,/9j/4AAQSkZJRgABAQAAAQA...\n",
      "31             Cakes  data:image/jpeg;base64,/9j/4AAQSkZJRgABAQAAAQA...\n",
      "32             Cakes  data:image/jpeg;base64,/9j/4AAQSkZJRgABAQAAAQA...\n",
      "33             Cakes  data:image/jpeg;base64,/9j/4AAQSkZJRgABAQAAAQA...\n",
      "34             Cakes  data:image/jpeg;base64,/9j/4AAQSkZJRgABAQAAAQA...\n",
      "35             Cakes  data:image/jpeg;base64,/9j/4AAQSkZJRgABAQAAAQA...\n",
      "36             Cakes  data:image/jpeg;base64,/9j/4AAQSkZJRgABAQAAAQA...\n",
      "37             Cakes  data:image/jpeg;base64,/9j/4AAQSkZJRgABAQAAAQA...\n",
      "38             Cakes  data:image/jpeg;base64,/9j/4AAQSkZJRgABAQAAAQA...\n",
      "39             Cakes  data:image/jpeg;base64,/9j/4AAQSkZJRgABAQAAAQA...\n"
     ]
    }
   ],
   "source": [
    "\n",
    "\n",
    "output_directory = \"downloaded_images\"\n",
    "os.makedirs(output_directory, exist_ok=True)\n",
    "\n",
    "driver = webdriver.Chrome()\n",
    "driver.get(\"https://www.google.com/imghp\")\n",
    "\n",
    "\n",
    "keywords = ['fruits', 'cars', 'Machine Learning', 'Guitar', 'Cakes']\n",
    "\n",
    "\n",
    "num_images_per_keyword = 10\n",
    "\n",
    "\n",
    "image_data = pd.DataFrame(columns=['Keyword', 'Image_URL'])\n",
    "\n",
    "for keyword in keywords:\n",
    "    \n",
    "    search_bar = WebDriverWait(driver, 10).until(\n",
    "        EC.presence_of_element_located((By.NAME, \"q\"))\n",
    "    )\n",
    "    search_bar.clear()\n",
    "    search_bar.send_keys(keyword)\n",
    "    search_bar.send_keys(Keys.RETURN)\n",
    "    \n",
    "    \n",
    "    for _ in range(num_images_per_keyword // 20):\n",
    "        \n",
    "        driver.execute_script(\"window.scrollTo(0, document.body.scrollHeight);\")\n",
    "        time.sleep(2)\n",
    "    \n",
    "    \n",
    "    images = driver.find_elements(By.XPATH, '//img[@class=\"rg_i Q4LuWd\"]')\n",
    "    \n",
    "    \n",
    "    for i, image in enumerate(images[:num_images_per_keyword]):\n",
    "        try:\n",
    "            ActionChains(driver).move_to_element(image).perform()\n",
    "            time.sleep(1)  \n",
    "            image_url = image.get_attribute(\"src\")\n",
    "            image_data = image_data.append({'Keyword': keyword, 'Image_URL': image_url}, ignore_index=True)\n",
    "        except Exception as e:\n",
    "            print(f\"Failed to save image {i+1} for {keyword}. Error: {e}\")\n",
    "\n",
    "\n",
    "driver.quit()\n",
    "\n",
    "\n",
    "print(image_data)\n"
   ]
  },
  {
   "cell_type": "markdown",
   "id": "0e63e072",
   "metadata": {},
   "source": [
    "# Q 4"
   ]
  },
  {
   "cell_type": "code",
   "execution_count": null,
   "id": "e63a3f90",
   "metadata": {},
   "outputs": [],
   "source": [
    "driver = webdriver.Chrome(r\"C:\\Users\\Admin\\Downloads\\chromedriver.exe\")"
   ]
  },
  {
   "cell_type": "code",
   "execution_count": 20,
   "id": "a5e3a697",
   "metadata": {},
   "outputs": [],
   "source": [
    "driver = webdriver.Chrome()"
   ]
  },
  {
   "cell_type": "code",
   "execution_count": 21,
   "id": "53946579",
   "metadata": {},
   "outputs": [],
   "source": [
    "driver.get('https://www.flipkart.com/search?q=smartphone&as=on&as-show=on&otracker=AS_Query_OrganicAutoSuggest_2_4_na_na_na&otracker1=AS_Query_OrganicAutoSuggest_2_4_na_na_na&as-pos=2&as-type=RECENT&suggestionId=smartphone&requestId=6a06843c-613c-482f-a4d1-aa8686c94395&as-searchtext=smar')"
   ]
  },
  {
   "cell_type": "code",
   "execution_count": 22,
   "id": "44d26cf2",
   "metadata": {},
   "outputs": [],
   "source": [
    "product_urls=[]\n",
    "start=0\n",
    "end=3\n",
    "for page in range(start,end):\n",
    "    url=driver.find_elements(By.XPATH,\"//div[@class='_4rR01T'] \")   \n",
    "    for i in url:\n",
    "        product_urls.append(i.get_attribute(\"href\"))\n",
    "    next_button=driver.find_element(By.XPATH,\" //a[@class='_1LKTO3']\")\n",
    "    next_button.click()\n",
    "    time.sleep(3)"
   ]
  },
  {
   "cell_type": "code",
   "execution_count": 23,
   "id": "f439f9a4",
   "metadata": {},
   "outputs": [
    {
     "data": {
      "text/plain": [
       "72"
      ]
     },
     "execution_count": 23,
     "metadata": {},
     "output_type": "execute_result"
    }
   ],
   "source": [
    "len(product_urls)"
   ]
  },
  {
   "cell_type": "markdown",
   "id": "874bf3ba",
   "metadata": {},
   "source": [
    "# Q 5"
   ]
  },
  {
   "cell_type": "code",
   "execution_count": 2,
   "id": "e327a217",
   "metadata": {},
   "outputs": [],
   "source": [
    "driver = webdriver.Chrome()"
   ]
  },
  {
   "cell_type": "code",
   "execution_count": 4,
   "id": "226f4157",
   "metadata": {},
   "outputs": [],
   "source": [
    "current_url=driver.get(\"https://www.google.com/maps/place/Pune,+Maharashtra/@18.5248706,73.6981517,11z/data=!3m1!4b1!4m6!3m5!1s0x3bc2bf2e67461101:0x828d43bf9d9ee343!8m2!3d18.5204303!4d73.8567437!16zL20vMDE1eTJx?entry=ttu \")"
   ]
  },
  {
   "cell_type": "code",
   "execution_count": 6,
   "id": "d5384bf3",
   "metadata": {},
   "outputs": [
    {
     "name": "stdout",
     "output_type": "stream",
     "text": [
      "Latitude: 18.5248706\n",
      "Longitude: 73.6981517\n"
     ]
    }
   ],
   "source": [
    "import re\n",
    "\n",
    "\n",
    "current_url = \"https://www.google.com/maps/place/Pune,+Maharashtra/@18.5248706,73.6981517,11z/data=!3m1!4b1!4m6!3m5!1s0x3bc2bf2e67461101:0x828d43bf9d9ee343!8m2!3d18.5204303!4d73.8567437!16zL20vMDE1eTJx?entry=ttu\"\n",
    "\n",
    "\n",
    "pattern = r\"@(-?\\d+\\.\\d+),(-?\\d+\\.\\d+)\"\n",
    "\n",
    "\n",
    "matches = re.findall(pattern, current_url)\n",
    "\n",
    "\n",
    "if matches:\n",
    "    latitude, longitude = float(matches[0][0]), float(matches[0][1])\n",
    "    print(\"Latitude:\", latitude)\n",
    "    print(\"Longitude:\", longitude)\n",
    "else:\n",
    "    print(\"Latitude and longitude not found in the URL.\")\n"
   ]
  },
  {
   "cell_type": "markdown",
   "id": "6c2de084",
   "metadata": {},
   "source": [
    "# Q 6"
   ]
  },
  {
   "cell_type": "code",
   "execution_count": 24,
   "id": "b5330a19",
   "metadata": {},
   "outputs": [],
   "source": [
    "import pandas as pd\n",
    "import selenium\n",
    "from selenium import webdriver\n",
    "from selenium.common.exceptions import StaleElementReferenceException, NoSuchElementException\n",
    "import time\n",
    "import re"
   ]
  },
  {
   "cell_type": "code",
   "execution_count": 25,
   "id": "ab9ff535",
   "metadata": {},
   "outputs": [],
   "source": [
    "driver = webdriver.Chrome()"
   ]
  },
  {
   "cell_type": "code",
   "execution_count": 26,
   "id": "5109bcf4",
   "metadata": {},
   "outputs": [],
   "source": [
    "url=\"https://www.digit.in/top-products/best-business-laptops-india-42.html \""
   ]
  },
  {
   "cell_type": "code",
   "execution_count": 27,
   "id": "8b01072d",
   "metadata": {},
   "outputs": [],
   "source": [
    "driver.get(url)"
   ]
  },
  {
   "cell_type": "code",
   "execution_count": 28,
   "id": "186c0630",
   "metadata": {},
   "outputs": [],
   "source": [
    "Brands=[]\n",
    "\n"
   ]
  },
  {
   "cell_type": "code",
   "execution_count": 29,
   "id": "b6a73369",
   "metadata": {},
   "outputs": [
    {
     "data": {
      "text/plain": [
       "8"
      ]
     },
     "execution_count": 29,
     "metadata": {},
     "output_type": "execute_result"
    }
   ],
   "source": [
    "br=driver.find_elements(By.XPATH,\" //h3[@class='font130 mt0 mb10 mobilesblockdisplay ']\")\n",
    "len(br)"
   ]
  },
  {
   "cell_type": "code",
   "execution_count": 30,
   "id": "6f8aaafb",
   "metadata": {},
   "outputs": [
    {
     "data": {
      "text/plain": [
       "['ASUS Vivobook K15 OLED Ryzen 5-5500U (KM513UA-L512WS)',\n",
       " 'realme Book Prime 11th Gen Core i5-11320H (CloudPro002)',\n",
       " 'ASUS Vivobook S14 OLED S3402ZA-KM501WS 12th Gen Core i5-12500H',\n",
       " 'ASUS Vivobook Pro 16 OLED 13th Gen Core i5-13500H (K6602VU-LZ542WS)',\n",
       " 'Lenovo Yoga Slim 7i Carbon 12th Gen Core i7-1260P (82U90080IN)',\n",
       " 'Apple MacBook Pro MNEQ3HN/A (2022)',\n",
       " 'Samsung Galaxy Book3 Pro NP940XFG-KC5IN 13th Gen Core i7-1360P',\n",
       " 'Apple MacBook Pro (MK1F3HN/A)']"
      ]
     },
     "execution_count": 30,
     "metadata": {},
     "output_type": "execute_result"
    }
   ],
   "source": [
    "for i in br:\n",
    "   \n",
    "    Brands.append(str(i.text).replace(\"\\n\",\"\"))\n",
    "Brands"
   ]
  },
  {
   "cell_type": "markdown",
   "id": "66230297",
   "metadata": {},
   "source": [
    "# Q 7"
   ]
  },
  {
   "cell_type": "code",
   "execution_count": 31,
   "id": "e6fdb371",
   "metadata": {},
   "outputs": [],
   "source": [
    "driver = webdriver.Chrome()"
   ]
  },
  {
   "cell_type": "code",
   "execution_count": 32,
   "id": "3d9a57a4",
   "metadata": {},
   "outputs": [],
   "source": [
    "url= \"https://www.forbes.com/billionaires/\""
   ]
  },
  {
   "cell_type": "code",
   "execution_count": 33,
   "id": "92a04938",
   "metadata": {},
   "outputs": [],
   "source": [
    "driver.get(url)"
   ]
  },
  {
   "cell_type": "code",
   "execution_count": 39,
   "id": "31d22e7c",
   "metadata": {},
   "outputs": [],
   "source": [
    "billionaires_list=[]"
   ]
  },
  {
   "cell_type": "code",
   "execution_count": 40,
   "id": "cb7e2407",
   "metadata": {},
   "outputs": [
    {
     "data": {
      "text/plain": [
       "800"
      ]
     },
     "execution_count": 40,
     "metadata": {},
     "output_type": "execute_result"
    }
   ],
   "source": [
    "billionaires = driver.find_elements(By.XPATH,\"//div[@class='Table_dataCell__2QCve'] \")\n",
    "len(billionaires)"
   ]
  },
  {
   "cell_type": "code",
   "execution_count": 42,
   "id": "b3104a05",
   "metadata": {},
   "outputs": [
    {
     "data": {
      "text/plain": [
       "[]"
      ]
     },
     "execution_count": 42,
     "metadata": {},
     "output_type": "execute_result"
    }
   ],
   "source": [
    "for bill in billionaires_list:\n",
    "    \n",
    "    billionaires_list.append(i.text)\n",
    "    \n",
    "billionaires_list\n",
    "    \n",
    "    "
   ]
  },
  {
   "cell_type": "markdown",
   "id": "d71147bd",
   "metadata": {},
   "source": [
    "# Q 8"
   ]
  },
  {
   "cell_type": "code",
   "execution_count": 52,
   "id": "fd67630c",
   "metadata": {},
   "outputs": [],
   "source": [
    "driver = webdriver.Chrome()\n"
   ]
  },
  {
   "cell_type": "code",
   "execution_count": 53,
   "id": "a73ffac8",
   "metadata": {},
   "outputs": [],
   "source": [
    "driver.get(\"https://www.youtube.com/watch?v=dQw4w9WgXcQ\")"
   ]
  },
  {
   "cell_type": "code",
   "execution_count": 56,
   "id": "581aaa36",
   "metadata": {},
   "outputs": [],
   "source": [
    "total_comments = driver.find_element(By.XPATH,\"//span[@class='style-scope yt-formatted-string']\").get_attribute(\"total-comment-count\")\n"
   ]
  },
  {
   "cell_type": "code",
   "execution_count": null,
   "id": "6fbf84f9",
   "metadata": {},
   "outputs": [],
   "source": [
    "df = pd.DataFrame(columns=['Comment', 'Upvote', 'Time'])\n",
    "\n",
    "count = 0\n",
    "\n",
    "while count < 500:\n",
    "\n",
    "    comments = driver.find_elements(By.XPATH,\"//ytd-comment-renderer[@id='comment']\")\n",
    "\n",
    "    for comment in comments:\n",
    "\n",
    "        comment_text = comment.find_element(By.XPATH,\".//yt-formatted-string[@id='content-text']\").text\n",
    "\n",
    "        upvotes = comment.find_element(By.XPATH,\".//ytd-toggle-button-renderer[@id='vote-count-button']\").get_attribute(\"aria-label\")\n",
    "\n",
    "        time = comment.find_element(By.XPATH,\".//yt-formatted-string[@id='published-time-text']\").text\n",
    "\n",
    "        df = df.append({'Comment': comment_text, 'Upvote': upvotes, 'Time': time}, ignore_index=True)\n",
    "\n",
    "        count += 1\n",
    "\n",
    "        if count == total_comments:\n",
    "            break\n",
    "\n",
    "    driver.execute_script(\"window.scrollTo(0, document.body.scrollHeight);\")\n",
    "\n",
    "    time.sleep(5)\n",
    "\n",
    "driver.quit()\n",
    "\n",
    "print(df)\n",
    "\n"
   ]
  },
  {
   "cell_type": "markdown",
   "id": "7a3b276f",
   "metadata": {},
   "source": [
    "# Q 9"
   ]
  },
  {
   "cell_type": "code",
   "execution_count": 48,
   "id": "236d2afe",
   "metadata": {},
   "outputs": [],
   "source": [
    "driver = webdriver.Chrome()"
   ]
  },
  {
   "cell_type": "code",
   "execution_count": 49,
   "id": "8fbb15bf",
   "metadata": {},
   "outputs": [],
   "source": [
    "driver.get(\"https://www.hostelworld.com/hostels/london\")"
   ]
  },
  {
   "cell_type": "code",
   "execution_count": 50,
   "id": "a956cbff",
   "metadata": {},
   "outputs": [],
   "source": [
    "hostels = driver.find_elements(By.XPATH,\"//div[@class='property-listing-item']\")\n",
    "\n",
    "df = pd.DataFrame(columns=['Hostel name', 'Distance from city centre', 'Ratings', 'Total reviews', 'Overall reviews', 'Privates from price', 'Dorms from price', 'Facilities', 'Property description'])\n"
   ]
  },
  {
   "cell_type": "code",
   "execution_count": 51,
   "id": "2bf455dc",
   "metadata": {},
   "outputs": [
    {
     "name": "stdout",
     "output_type": "stream",
     "text": [
      "Empty DataFrame\n",
      "Columns: [Hostel name, Distance from city centre, Ratings, Total reviews, Overall reviews, Privates from price, Dorms from price, Facilities, Property description]\n",
      "Index: []\n"
     ]
    }
   ],
   "source": [
    "for hostel in hostels:\n",
    "\n",
    "    hostel_name = hostel.find_element(By.XPATH,\".//div[@class='property-listing-item-name']\").text\n",
    "\n",
    "    distance_from_city_centre = hostel.find_element(By.XPATH,\".//div[@class='property-listing-item-distance']\").text\n",
    "\n",
    "    ratings = hostel.find_element(By.XPATH,\".//div[@class='property-listing-item-rating']\").text\n",
    "\n",
    "    total_reviews = hostel.find_element(By.XPATH,\".//div[@class='property-listing-item-reviews']\").text\n",
    "\n",
    "    overall_reviews = hostel.find_element(By.XPATH,\".//div[@class='property-listing-item-overall-reviews']\").text\n",
    "\n",
    "    privates_from_price = hostel.find_element(By.XPATH,\".//div[@class='property-listing-item-price']\").text\n",
    "\n",
    "    dorms_from_price = hostel.find_element(By.XPATH,\".//div[@class='property-listing-item-price']\").text\n",
    "\n",
    "    facilities = hostel.find_element(By.XPATH,\".//div[@class='property-listing-item-facilities']\").text\n",
    "\n",
    "    property_description = hostel.find_element(By.XPATH,\".//div[@class='property-listing-item-description']\").text\n",
    "\n",
    "    df = df.append({'Hostel name': hostel_name, 'Distance from city centre': distance_from_city_centre, 'Ratings': ratings, 'Total reviews': total_reviews, 'Overall reviews': overall_reviews, 'Privates from price': privates_from_price, 'Dorms from price': dorms_from_price, 'Facilities': facilities, 'Property description': property_description}, ignore_index=True)\n",
    "\n",
    "driver.quit()\n",
    "\n",
    "print(df)\n"
   ]
  },
  {
   "cell_type": "code",
   "execution_count": null,
   "id": "a5bf7a76",
   "metadata": {},
   "outputs": [],
   "source": []
  },
  {
   "cell_type": "code",
   "execution_count": null,
   "id": "64bb3640",
   "metadata": {},
   "outputs": [],
   "source": []
  },
  {
   "cell_type": "code",
   "execution_count": null,
   "id": "c8704e90",
   "metadata": {},
   "outputs": [],
   "source": []
  },
  {
   "cell_type": "code",
   "execution_count": null,
   "id": "f30fe231",
   "metadata": {},
   "outputs": [],
   "source": []
  }
 ],
 "metadata": {
  "kernelspec": {
   "display_name": "Python 3 (ipykernel)",
   "language": "python",
   "name": "python3"
  },
  "language_info": {
   "codemirror_mode": {
    "name": "ipython",
    "version": 3
   },
   "file_extension": ".py",
   "mimetype": "text/x-python",
   "name": "python",
   "nbconvert_exporter": "python",
   "pygments_lexer": "ipython3",
   "version": "3.11.3"
  }
 },
 "nbformat": 4,
 "nbformat_minor": 5
}
